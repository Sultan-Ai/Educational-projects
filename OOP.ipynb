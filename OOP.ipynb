{
 "cells": [
  {
   "cell_type": "code",
   "execution_count": 42,
   "id": "a986ac32-7db5-4a4d-a40f-aa78354b241b",
   "metadata": {},
   "outputs": [
    {
     "name": "stdout",
     "output_type": "stream",
     "text": [
      "500\n",
      "3000\n"
     ]
    }
   ],
   "source": [
    "import csv\n",
    "\n",
    "class Item:\n",
    "    \n",
    "    pay_rate = 0.8 # the pay rate after 20% discount\n",
    "    \n",
    "    all = []\n",
    "    \n",
    "    # attibute\n",
    "    def __init__(self,\n",
    "                 name: str,\n",
    "                 price: float,\n",
    "                 quantity=0):\n",
    "        \n",
    "        # run valudations to the received arguments\n",
    "        assert price > 0, f\"Price {price} is not greated than zero\"\n",
    "        assert quantity > 0, f\"Quantity {quantity} is not greated than zero\"\n",
    "        \n",
    "        # assign to self object\n",
    "        self.name = name\n",
    "        self.price = price\n",
    "        self.quantity = quantity\n",
    "        \n",
    "        # actions to execute\n",
    "        Item.all.append(self)\n",
    "    \n",
    "    # method\n",
    "    def calculate_total_price(self):\n",
    "        return self.price * self.quantity\n",
    "    \n",
    "    def apply_discount(self):\n",
    "        self.price = self.price * Item.pay_rate\n",
    "        \n",
    "    def __repr__(self):\n",
    "        return f\"Item('{self.name}', {self.price}, {self.quantity})\"\n",
    "    \n",
    "    @classmethod\n",
    "    def instantiate_from_csv():\n",
    "        with open('items.csv', 'r') as f:\n",
    "            reader = csv.DictReader(f)\n",
    "            items = list(reader)\n",
    "            \n",
    "            \n",
    "\n",
    "item1 = Item(\"Phone\", 100, 5)\n",
    "item2 = Item(\"Laptop\", 1000, 3)\n",
    "item3 = Item(\"Cable\", 10, 5)\n",
    "item4 = Item(\"Mouse\", 50, 5)\n",
    "item5 = Item(\"Keyboard\", 75, 5)\n",
    "\n",
    "\n",
    "# methods\n",
    "print(item1.calculate_total_price())\n",
    "print(item2.calculate_total_price())"
   ]
  },
  {
   "cell_type": "code",
   "execution_count": 38,
   "id": "a0a4affc-130f-432c-85a8-2a647d8c9907",
   "metadata": {},
   "outputs": [
    {
     "data": {
      "text/plain": [
       "[Item('Phone', 100, 5),\n",
       " Item('Laptop', 1000, 3),\n",
       " Item('Cable', 10, 5),\n",
       " Item('Mouse', 50, 5),\n",
       " Item('Keyboard', 75, 5)]"
      ]
     },
     "execution_count": 38,
     "metadata": {},
     "output_type": "execute_result"
    }
   ],
   "source": [
    "Item.all"
   ]
  },
  {
   "cell_type": "code",
   "execution_count": 39,
   "id": "935d0ae4-9922-45b7-8bdc-52a169fec8d0",
   "metadata": {},
   "outputs": [
    {
     "name": "stdout",
     "output_type": "stream",
     "text": [
      "Phone\n",
      "Laptop\n",
      "Cable\n",
      "Mouse\n",
      "Keyboard\n"
     ]
    }
   ],
   "source": [
    "for instance in Item.all:\n",
    "    print(instance.name)"
   ]
  },
  {
   "cell_type": "code",
   "execution_count": 40,
   "id": "3c924d1b-b714-4e98-bd53-111225ee915f",
   "metadata": {},
   "outputs": [
    {
     "data": {
      "text/plain": [
       "{'name': 'Laptop', 'price': 800.0, 'quantity': 3}"
      ]
     },
     "execution_count": 40,
     "metadata": {},
     "output_type": "execute_result"
    }
   ],
   "source": [
    "item2.apply_discount()\n",
    "item2.__dict__"
   ]
  },
  {
   "cell_type": "code",
   "execution_count": 41,
   "id": "f332a7be-051c-4dd4-ac4d-ee73f0152b8e",
   "metadata": {},
   "outputs": [
    {
     "data": {
      "text/plain": [
       "mappingproxy({'__module__': '__main__',\n",
       "              'pay_rate': 0.8,\n",
       "              'all': [Item('Phone', 100, 5),\n",
       "               Item('Laptop', 800.0, 3),\n",
       "               Item('Cable', 10, 5),\n",
       "               Item('Mouse', 50, 5),\n",
       "               Item('Keyboard', 75, 5)],\n",
       "              '__init__': <function __main__.Item.__init__(self, name: str, price: float, quantity=0)>,\n",
       "              'calculate_total_price': <function __main__.Item.calculate_total_price(self)>,\n",
       "              'apply_discount': <function __main__.Item.apply_discount(self)>,\n",
       "              '__repr__': <function __main__.Item.__repr__(self)>,\n",
       "              '__dict__': <attribute '__dict__' of 'Item' objects>,\n",
       "              '__weakref__': <attribute '__weakref__' of 'Item' objects>,\n",
       "              '__doc__': None})"
      ]
     },
     "execution_count": 41,
     "metadata": {},
     "output_type": "execute_result"
    }
   ],
   "source": [
    "Item.__dict__"
   ]
  },
  {
   "cell_type": "code",
   "execution_count": null,
   "id": "08afb370-cb20-4aa3-84a5-9a1d2b48f514",
   "metadata": {},
   "outputs": [],
   "source": []
  },
  {
   "cell_type": "code",
   "execution_count": null,
   "id": "579d8606-ea4d-49ab-bb92-b07629724b9d",
   "metadata": {},
   "outputs": [],
   "source": []
  }
 ],
 "metadata": {
  "kernelspec": {
   "display_name": "Python 3 (ipykernel)",
   "language": "python",
   "name": "python3"
  },
  "language_info": {
   "codemirror_mode": {
    "name": "ipython",
    "version": 3
   },
   "file_extension": ".py",
   "mimetype": "text/x-python",
   "name": "python",
   "nbconvert_exporter": "python",
   "pygments_lexer": "ipython3",
   "version": "3.9.13"
  }
 },
 "nbformat": 4,
 "nbformat_minor": 5
}
