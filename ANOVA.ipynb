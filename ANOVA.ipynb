{
 "cells": [
  {
   "cell_type": "markdown",
   "id": "72a4d3cf-b94c-44d2-976d-3ffee39961a1",
   "metadata": {},
   "source": [
    "# Question"
   ]
  },
  {
   "cell_type": "markdown",
   "id": "823da630-62d0-4761-bb14-f9e9f2d19cbd",
   "metadata": {},
   "source": [
    "Source: https://sphweb.bumc.bu.edu/otlt/mph-modules/bs/bs704_hypothesistesting-anova/bs704_hypothesistesting-anova_print.html#:~:text=The%20null%20hypothesis%20in%20ANOVA,rather%20than%20in%20mathematical%20symbols.\n",
    "\n",
    "A clinical trial is run to compare weight loss programs and participants are randomly assigned to one of the comparison programs and are counseled on the details of the assigned program. Participants follow the assigned program for 8 weeks. The outcome of interest is weight loss, defined as the difference in weight measured at the start of the study (baseline) and weight measured at the end of the study (8 weeks), measured in pounds.  \n",
    "\n",
    "Three popular weight loss programs are considered. The first is a low calorie diet. The second is a low fat diet and the third is a low carbohydrate diet. For comparison purposes, a fourth group is considered as a control group. Participants in the fourth group are told that they are participating in a study of healthy behaviors with weight loss only one component of interest. The control group is included here to assess the placebo effect (i.e., weight loss due to simply participating in the study). A total of twenty patients agree to participate in the study and are randomly assigned to one of the four diet groups. Weights are measured at baseline and patients are counseled on the proper implementation of the assigned diet (with the exception of the control group). After 8 weeks, each patient's weight is again measured and the difference in weights is computed by subtracting the 8 week weight from the baseline weight. Positive differences indicate weight losses and negative differences indicate weight gains. For interpretation purposes, we refer to the differences in weights as weight losses and the observed weight losses are shown below.\n",
    "\n",
    "Low Calorie 8,9,6,7,3\n",
    "\n",
    "Low Fat 2,4,3,5,1\n",
    "\n",
    "Low Carbohydrate 3,5,4,2,3\n",
    "\n",
    "Control 2,2,-1,0,3\n",
    "\n",
    "Is there a statistically significant difference in the mean weight loss among the four diets?  We will run the ANOVA using the five-step approach."
   ]
  },
  {
   "cell_type": "markdown",
   "id": "ee950270-448a-4990-a215-83c1591d817b",
   "metadata": {},
   "source": [
    "# Solution"
   ]
  },
  {
   "cell_type": "markdown",
   "id": "05f4135f-ed76-4498-827e-c5871142b1f2",
   "metadata": {},
   "source": [
    "## Prepare data"
   ]
  },
  {
   "cell_type": "code",
   "execution_count": 1,
   "id": "35b42b11-2500-4f86-9a5f-e695b75a5a5a",
   "metadata": {},
   "outputs": [],
   "source": [
    "import numpy as np\n",
    "import pandas as pd\n",
    "import matplotlib.pyplot as plt"
   ]
  },
  {
   "cell_type": "code",
   "execution_count": 2,
   "id": "d15ad4ff-ca92-45b3-bc15-b7fcfb747839",
   "metadata": {},
   "outputs": [],
   "source": [
    "weight_loss = {}\n",
    "weight_loss['Low Calorie'] = [8,9,6,7,3]\n",
    "weight_loss['Low Fat'] = [2,4,3,5,1]\n",
    "weight_loss['Low Carbohydrate'] = [3,5,4,2,3]\n",
    "weight_loss['Control'] = [2,2,-1,0,3]"
   ]
  },
  {
   "cell_type": "code",
   "execution_count": 3,
   "id": "452fd475-40ac-4ca0-8729-9575223f8746",
   "metadata": {},
   "outputs": [
    {
     "data": {
      "text/html": [
       "<div>\n",
       "<style scoped>\n",
       "    .dataframe tbody tr th:only-of-type {\n",
       "        vertical-align: middle;\n",
       "    }\n",
       "\n",
       "    .dataframe tbody tr th {\n",
       "        vertical-align: top;\n",
       "    }\n",
       "\n",
       "    .dataframe thead th {\n",
       "        text-align: right;\n",
       "    }\n",
       "</style>\n",
       "<table border=\"1\" class=\"dataframe\">\n",
       "  <thead>\n",
       "    <tr style=\"text-align: right;\">\n",
       "      <th></th>\n",
       "      <th>Low Calorie</th>\n",
       "      <th>Low Fat</th>\n",
       "      <th>Low Carbohydrate</th>\n",
       "      <th>Control</th>\n",
       "    </tr>\n",
       "  </thead>\n",
       "  <tbody>\n",
       "    <tr>\n",
       "      <th>0</th>\n",
       "      <td>8</td>\n",
       "      <td>2</td>\n",
       "      <td>3</td>\n",
       "      <td>2</td>\n",
       "    </tr>\n",
       "    <tr>\n",
       "      <th>1</th>\n",
       "      <td>9</td>\n",
       "      <td>4</td>\n",
       "      <td>5</td>\n",
       "      <td>2</td>\n",
       "    </tr>\n",
       "    <tr>\n",
       "      <th>2</th>\n",
       "      <td>6</td>\n",
       "      <td>3</td>\n",
       "      <td>4</td>\n",
       "      <td>-1</td>\n",
       "    </tr>\n",
       "    <tr>\n",
       "      <th>3</th>\n",
       "      <td>7</td>\n",
       "      <td>5</td>\n",
       "      <td>2</td>\n",
       "      <td>0</td>\n",
       "    </tr>\n",
       "    <tr>\n",
       "      <th>4</th>\n",
       "      <td>3</td>\n",
       "      <td>1</td>\n",
       "      <td>3</td>\n",
       "      <td>3</td>\n",
       "    </tr>\n",
       "  </tbody>\n",
       "</table>\n",
       "</div>"
      ],
      "text/plain": [
       "   Low Calorie  Low Fat  Low Carbohydrate  Control\n",
       "0            8        2                 3        2\n",
       "1            9        4                 5        2\n",
       "2            6        3                 4       -1\n",
       "3            7        5                 2        0\n",
       "4            3        1                 3        3"
      ]
     },
     "execution_count": 3,
     "metadata": {},
     "output_type": "execute_result"
    }
   ],
   "source": [
    "df = pd.DataFrame.from_dict(weight_loss)\n",
    "df"
   ]
  },
  {
   "cell_type": "code",
   "execution_count": 4,
   "id": "5f71072f-95db-419d-b16c-a9de0fd30aaa",
   "metadata": {},
   "outputs": [
    {
     "data": {
      "text/plain": [
       "Low Calorie         6.6\n",
       "Low Fat             3.0\n",
       "Low Carbohydrate    3.4\n",
       "Control             1.2\n",
       "dtype: float64"
      ]
     },
     "execution_count": 4,
     "metadata": {},
     "output_type": "execute_result"
    }
   ],
   "source": [
    "averages = df.mean()\n",
    "averages"
   ]
  },
  {
   "cell_type": "markdown",
   "id": "502c5e02-5643-45c2-95b2-6ca99c2f8f35",
   "metadata": {},
   "source": [
    "I can do bootstraping with resampling and see how distributions will work out."
   ]
  },
  {
   "cell_type": "code",
   "execution_count": 5,
   "id": "23742149-68b0-49c8-8ba6-15cb1cd1f23f",
   "metadata": {},
   "outputs": [
    {
     "data": {
      "text/plain": [
       "array([3, 4, 2, 3, 2])"
      ]
     },
     "execution_count": 5,
     "metadata": {},
     "output_type": "execute_result"
    }
   ],
   "source": [
    "np.random.choice(weight_loss['Low Fat'], size=(5,), replace=True) "
   ]
  },
  {
   "cell_type": "markdown",
   "id": "ec4d9b60-9d37-4cb2-af18-73271ba25ae9",
   "metadata": {},
   "source": [
    "## Bootstraping"
   ]
  },
  {
   "cell_type": "code",
   "execution_count": 6,
   "id": "aa438c4d-5e7c-4254-8600-c22af2a528f2",
   "metadata": {},
   "outputs": [],
   "source": [
    "steps=10000\n",
    "means = {}\n",
    "\n",
    "\n",
    "for program in weight_loss:\n",
    "    means[program] = []\n",
    "    \n",
    "    for i in range(steps):\n",
    "        means[program].append(np.mean( np.random.choice(weight_loss[program], size=(5,), replace=True) ))"
   ]
  },
  {
   "cell_type": "code",
   "execution_count": 7,
   "id": "5f3fcf22-7cdd-4925-971c-a84db3082c18",
   "metadata": {},
   "outputs": [
    {
     "data": {
      "text/plain": [
       "<matplotlib.legend.Legend at 0x22418b16ee0>"
      ]
     },
     "execution_count": 7,
     "metadata": {},
     "output_type": "execute_result"
    },
    {
     "data": {
      "image/png": "[encoded data removed]",
      "text/plain": [
       "<Figure size 1000x500 with 1 Axes>"
      ]
     },
     "metadata": {},
     "output_type": "display_data"
    }
   ],
   "source": [
    "plt.figure(figsize=[10,5])\n",
    "for program in means:\n",
    "    plt.hist(means[program], bins=10, label=program)\n",
    "plt.legend()"
   ]
  },
  {
   "cell_type": "markdown",
   "id": "eefe5a55-ea52-4c45-a88d-569edfb00126",
   "metadata": {},
   "source": [
    "There is a difference between groups: low calorie, control, and either low fat or low carbohydrate.\n",
    "\n",
    "Low fat and low carbohydrate looks indistinguishable."
   ]
  },
  {
   "cell_type": "markdown",
   "id": "89f40c27-b130-40fe-a08d-fb0645365155",
   "metadata": {
    "tags": []
   },
   "source": [
    "I would like to have the same conclusion by calculating confidence interval with students' distibution"
   ]
  },
  {
   "cell_type": "markdown",
   "id": "0ed54f53-6b76-41db-9b30-3f0e21e23124",
   "metadata": {
    "tags": []
   },
   "source": [
    "## Student's distribution"
   ]
  },
  {
   "cell_type": "code",
   "execution_count": 8,
   "id": "33179eb5-aa77-4575-8c86-e1cf09a7b7a1",
   "metadata": {},
   "outputs": [],
   "source": [
    "import scipy.stats as st"
   ]
  },
  {
   "cell_type": "code",
   "execution_count": 9,
   "id": "b637779e-c4a4-44a9-bfa7-08986d0465eb",
   "metadata": {},
   "outputs": [
    {
     "name": "stdout",
     "output_type": "stream",
     "text": [
      "Low Calorie name:\n",
      "(6.598000649190667, 6.628319350809334)\n",
      "Low Fat name:\n",
      "(2.9879114238479962, 3.008728576152004)\n",
      "Low Carbohydrate name:\n",
      "(3.3893241604321576, 3.4043558395678426)\n",
      "Control name:\n",
      "(1.186901590866242, 1.2085784091337581)\n"
     ]
    }
   ],
   "source": [
    "# create 90% confidence interval\n",
    "for program in means:\n",
    "    print(program + \" name:\")\n",
    "    print(st.t.interval(alpha=0.90, df=len(means[program])-1,\n",
    "                  loc=np.mean(means[program]),\n",
    "                  scale=st.sem(means[program])))"
   ]
  },
  {
   "cell_type": "markdown",
   "id": "8c24be27-4374-4eca-86ba-9431c21f008b",
   "metadata": {},
   "source": [
    "By calculating confidence intervals using Student's t-distribution I am able to say Low Calorie, Control and either Low Fat or Low Carbohydrate groups are all different groups. However I am not confident to say that Low Fat and Low Carbohydrate produce different results."
   ]
  },
  {
   "cell_type": "markdown",
   "id": "4d7bc3bc-92ed-4d7c-8961-e9b554d9d5d0",
   "metadata": {},
   "source": [
    "## t-test"
   ]
  },
  {
   "cell_type": "markdown",
   "id": "f6800c4f-384b-4767-b5b4-f70dac0a20a7",
   "metadata": {},
   "source": [
    "So here we can not reject the null hypothesis."
   ]
  },
  {
   "cell_type": "code",
   "execution_count": 10,
   "id": "1d3b78bf-6964-48c9-8c50-ca9963336e75",
   "metadata": {},
   "outputs": [
    {
     "data": {
      "text/plain": [
       "Ttest_indResult(statistic=-0.4588314677411234, pvalue=0.6585638765676658)"
      ]
     },
     "execution_count": 10,
     "metadata": {},
     "output_type": "execute_result"
    }
   ],
   "source": [
    "st.ttest_ind(weight_loss['Low Fat'], weight_loss['Low Carbohydrate'])"
   ]
  },
  {
   "cell_type": "markdown",
   "id": "6ec6cffb-bcf4-458c-9ad9-217ae962d4d1",
   "metadata": {},
   "source": [
    "Others:"
   ]
  },
  {
   "cell_type": "code",
   "execution_count": 11,
   "id": "c926e99e-0e2b-4bc3-bcda-ebe7cefd0e79",
   "metadata": {},
   "outputs": [
    {
     "data": {
      "text/plain": [
       "Ttest_indResult(statistic=1.7650452162436563, pvalue=0.11555535736696204)"
      ]
     },
     "execution_count": 11,
     "metadata": {},
     "output_type": "execute_result"
    }
   ],
   "source": [
    "st.ttest_ind(weight_loss['Low Fat'], weight_loss['Control'])"
   ]
  },
  {
   "cell_type": "code",
   "execution_count": 12,
   "id": "645cbcea-ef1a-4ab5-a30e-c45154c717cf",
   "metadata": {},
   "outputs": [
    {
     "data": {
      "text/plain": [
       "Ttest_indResult(statistic=0.0, pvalue=1.0)"
      ]
     },
     "execution_count": 12,
     "metadata": {},
     "output_type": "execute_result"
    }
   ],
   "source": [
    "st.ttest_ind(weight_loss['Control'], weight_loss['Control'])"
   ]
  },
  {
   "cell_type": "code",
   "execution_count": 13,
   "id": "f4b9d1d7-ce28-4f3a-837e-24ec83bf2a2a",
   "metadata": {},
   "outputs": [
    {
     "data": {
      "text/plain": [
       "Ttest_indResult(statistic=4.269074841227312, pvalue=0.002727598088070661)"
      ]
     },
     "execution_count": 13,
     "metadata": {},
     "output_type": "execute_result"
    }
   ],
   "source": [
    "st.ttest_ind(weight_loss['Low Calorie'], weight_loss['Control'])"
   ]
  },
  {
   "cell_type": "code",
   "execution_count": null,
   "id": "5c904b03-b56f-4ed0-8884-3724e335edcd",
   "metadata": {},
   "outputs": [],
   "source": []
  }
 ],
 "metadata": {
  "kernelspec": {
   "display_name": "Python 3 (ipykernel)",
   "language": "python",
   "name": "python3"
  },
  "language_info": {
   "codemirror_mode": {
    "name": "ipython",
    "version": 3
   },
   "file_extension": ".py",
   "mimetype": "text/x-python",
   "name": "python",
   "nbconvert_exporter": "python",
   "pygments_lexer": "ipython3",
   "version": "3.9.13"
  }
 },
 "nbformat": 4,
 "nbformat_minor": 5
}
