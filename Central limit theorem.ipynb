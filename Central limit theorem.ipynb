{
 "cells": [
  {
   "cell_type": "markdown",
   "id": "1ba6810a-54c0-4a13-af86-3d516b77fcfa",
   "metadata": {},
   "source": [
    "# Central limit theorem"
   ]
  },
  {
   "cell_type": "markdown",
   "id": "ddd005b8-62fb-4422-a5d6-3e4d62b1c30f",
   "metadata": {},
   "source": [
    "I want to \"experimentally\" test the central limit theorem. I will:\n",
    "1) Create scores from -100 to 100  with the equal distribution and the normal distribution. Each score will contain 10 samples. So 2100 samples in total. \n",
    "2) Randomly pick 10, 30, 50, 100, 200 samples. I can pick whatever sample as many times as possible.\n",
    "3) "
   ]
  },
  {
   "cell_type": "markdown",
   "id": "98467fa6-5f41-4556-b6e5-0f6256fae9f9",
   "metadata": {},
   "source": [
    "# Create uniform distribution"
   ]
  },
  {
   "cell_type": "code",
   "execution_count": 1,
   "id": "6d40a8ea-cbcf-4886-85a3-0a739f93d1da",
   "metadata": {},
   "outputs": [],
   "source": [
    "import numpy as np\n",
    "import matplotlib.pyplot as plt"
   ]
  },
  {
   "cell_type": "code",
   "execution_count": 2,
   "id": "a14f66d5-7582-4a91-a001-5eecd6515ae7",
   "metadata": {},
   "outputs": [],
   "source": [
    "data_uniform = np.random.randint(low=1, high=101, size=1000, dtype=int)"
   ]
  },
  {
   "cell_type": "code",
   "execution_count": 3,
   "id": "a7940a59-202e-41f5-9c40-06f13cacea64",
   "metadata": {},
   "outputs": [
    {
     "data": {
      "text/plain": [
       "(0.0, 100.0)"
      ]
     },
     "execution_count": 3,
     "metadata": {},
     "output_type": "execute_result"
    },
    {
     "data": {
      "image/png": "[encoded data removed]",
      "text/plain": [
       "<Figure size 720x360 with 1 Axes>"
      ]
     },
     "metadata": {
      "needs_background": "light"
     },
     "output_type": "display_data"
    }
   ],
   "source": [
    "plt.figure(figsize=[10,5])\n",
    "plt.hist(data_uniform, bins=100)\n",
    "plt.xlabel('scores')\n",
    "plt.ylabel('frequency')\n",
    "plt.xlim([0,100])"
   ]
  },
  {
   "cell_type": "markdown",
   "id": "08f67c66-a854-40ab-be14-a370151ae999",
   "metadata": {},
   "source": [
    "## Descriptive statistics"
   ]
  },
  {
   "cell_type": "code",
   "execution_count": 4,
   "id": "5ff1aaca-c3ff-419e-b54a-0c6fb87241c5",
   "metadata": {},
   "outputs": [
    {
     "data": {
      "text/plain": [
       "51.93"
      ]
     },
     "execution_count": 4,
     "metadata": {},
     "output_type": "execute_result"
    }
   ],
   "source": [
    "np.mean(data_uniform)"
   ]
  },
  {
   "cell_type": "code",
   "execution_count": 5,
   "id": "4563e550-227d-4e28-917e-ba3f385a8023",
   "metadata": {},
   "outputs": [
    {
     "data": {
      "text/plain": [
       "52.0"
      ]
     },
     "execution_count": 5,
     "metadata": {},
     "output_type": "execute_result"
    }
   ],
   "source": [
    "np.median(data_uniform)"
   ]
  },
  {
   "cell_type": "code",
   "execution_count": 6,
   "id": "33546c61-0d09-40ae-be6e-31f0a7ae9411",
   "metadata": {},
   "outputs": [
    {
     "data": {
      "text/plain": [
       "28.818971182191774"
      ]
     },
     "execution_count": 6,
     "metadata": {},
     "output_type": "execute_result"
    }
   ],
   "source": [
    "np.std(data_uniform)"
   ]
  },
  {
   "cell_type": "markdown",
   "id": "05cf64b8-08ae-456e-bf5a-b2ef43a0d7a5",
   "metadata": {},
   "source": [
    "# Randomly pick values"
   ]
  },
  {
   "cell_type": "code",
   "execution_count": 7,
   "id": "f36a8b4c-2672-4905-ad81-269d8cf45bf6",
   "metadata": {},
   "outputs": [
    {
     "data": {
      "text/plain": [
       "(1000,)"
      ]
     },
     "execution_count": 7,
     "metadata": {},
     "output_type": "execute_result"
    }
   ],
   "source": [
    "data_uniform.shape"
   ]
  },
  {
   "cell_type": "code",
   "execution_count": 8,
   "id": "c04e49ea-7658-411f-b5e8-ca259b7b48ad",
   "metadata": {},
   "outputs": [],
   "source": [
    "pick_10 = np.random.choice(data_uniform, size=(10,), replace=True)\n",
    "pick_50 = np.random.choice(data_uniform, size=(50,), replace=True)\n",
    "pick_100 = np.random.choice(data_uniform, size=(100,), replace=True)"
   ]
  },
  {
   "cell_type": "code",
   "execution_count": 9,
   "id": "190d8c48-e855-4f9c-b811-330cb0e1d893",
   "metadata": {},
   "outputs": [
    {
     "data": {
      "image/png": "[encoded data removed]",
      "text/plain": [
       "<Figure size 720x720 with 1 Axes>"
      ]
     },
     "metadata": {
      "needs_background": "light"
     },
     "output_type": "display_data"
    },
    {
     "data": {
      "image/png": "[encoded data removed]",
      "text/plain": [
       "<Figure size 720x720 with 1 Axes>"
      ]
     },
     "metadata": {
      "needs_background": "light"
     },
     "output_type": "display_data"
    },
    {
     "data": {
      "image/png": "[encoded data removed]",
      "text/plain": [
       "<Figure size 720x720 with 1 Axes>"
      ]
     },
     "metadata": {
      "needs_background": "light"
     },
     "output_type": "display_data"
    },
    {
     "data": {
      "image/png": "[encoded data removed]",
      "text/plain": [
       "<Figure size 720x720 with 1 Axes>"
      ]
     },
     "metadata": {
      "needs_background": "light"
     },
     "output_type": "display_data"
    }
   ],
   "source": [
    "pick = [data_uniform, pick_10, pick_50, pick_100]\n",
    "\n",
    "for i, pick_i in zip(range(4), pick):\n",
    "    plt.figure(figsize=[10,10])\n",
    "    plt.subplot(4,1,i+1)   \n",
    "    plt.hist(pick_i, bins=100)\n",
    "    plt.xlabel('scores')\n",
    "    plt.ylabel('frequency')\n",
    "    plt.xlim([0,100])"
   ]
  },
  {
   "cell_type": "markdown",
   "id": "b605c7fa-2e37-4c66-9fb4-6541817cf70d",
   "metadata": {},
   "source": [
    "# Central limit theorem"
   ]
  },
  {
   "cell_type": "markdown",
   "id": "09c70075-0e9d-4066-8012-876736e44d93",
   "metadata": {},
   "source": [
    "In probability theory, the central limit theorem (CLT) establishes that, in many situations, when independent random variables are summed up, their properly normalized sum tends toward a normal distribution even if the original variables themselves are not normally distributed.\n",
    "Source: https://en.wikipedia.org/wiki/Central_limit_theorem"
   ]
  },
  {
   "cell_type": "code",
   "execution_count": 10,
   "id": "8dc25595-1e2c-4484-ba76-173718919e64",
   "metadata": {},
   "outputs": [],
   "source": [
    "steps = 10000\n",
    "\n",
    "# create dictionary to randomly pick values\n",
    "pick = {}\n",
    "keys = [5,50,100]\n",
    "for key in keys:\n",
    "    pick[key] = []\n",
    "\n",
    "# dictionary of means\n",
    "means = {}\n",
    "for key in keys:\n",
    "    means[key] = []"
   ]
  },
  {
   "cell_type": "code",
   "execution_count": 11,
   "id": "c3abcc20-3d32-4e01-b6cb-73a6c0c365ec",
   "metadata": {},
   "outputs": [
    {
     "data": {
      "text/plain": [
       "{5: [], 50: [], 100: []}"
      ]
     },
     "execution_count": 11,
     "metadata": {},
     "output_type": "execute_result"
    }
   ],
   "source": [
    "means"
   ]
  },
  {
   "cell_type": "code",
   "execution_count": 12,
   "id": "89234929-d67a-4e51-b771-9fa069c5b7f9",
   "metadata": {},
   "outputs": [],
   "source": [
    "for i in range(steps):\n",
    "    \n",
    "    # randomly pick variables with sample sizes of 10, 50, 100\n",
    "    for key in pick.keys():\n",
    "        pick[key] = np.random.choice(data_uniform, size=(key,), replace=True)    \n",
    "    \n",
    "    # calculate means\n",
    "    for key in means.keys():\n",
    "        means[key].append( np.mean(pick[key]) )"
   ]
  },
  {
   "cell_type": "code",
   "execution_count": 13,
   "id": "017c6fea-f60a-4521-ae40-21e63ab0d591",
   "metadata": {},
   "outputs": [
    {
     "data": {
      "image/png": "[encoded data removed]",
      "text/plain": [
       "<Figure size 720x1080 with 1 Axes>"
      ]
     },
     "metadata": {
      "needs_background": "light"
     },
     "output_type": "display_data"
    },
    {
     "data": {
      "image/png": "[encoded data removed]",
      "text/plain": [
       "<Figure size 720x1080 with 1 Axes>"
      ]
     },
     "metadata": {
      "needs_background": "light"
     },
     "output_type": "display_data"
    },
    {
     "data": {
      "image/png": "[encoded data removed]",
      "text/plain": [
       "<Figure size 720x1080 with 1 Axes>"
      ]
     },
     "metadata": {
      "needs_background": "light"
     },
     "output_type": "display_data"
    }
   ],
   "source": [
    "# try plotting histogram for this key and specified number of means\n",
    "No_means = 1000\n",
    "\n",
    "for i, key in zip(range(3), means.keys()):\n",
    "    plt.figure(figsize=[10,15])\n",
    "    plt.subplot(3,1,i+1)\n",
    "    plt.hist(means[key][:No_means], bins=100)\n",
    "    plt.xlabel('scores')\n",
    "    plt.ylabel('frequency')\n",
    "    plt.xlim([0,100])"
   ]
  },
  {
   "cell_type": "markdown",
   "id": "332e23f5-d1e2-497f-85b3-b4326b678b29",
   "metadata": {},
   "source": [
    "# Confidence interval"
   ]
  },
  {
   "cell_type": "markdown",
   "id": "bcae6f78-82e0-4f2a-ab4d-a6a85a1f47b7",
   "metadata": {},
   "source": [
    "Confidence interval is a range between two values that contains 95% of means. How do I calculate it in program? I need to sort all array. Then I ignore first p/2 and the last p/2."
   ]
  },
  {
   "cell_type": "code",
   "execution_count": 14,
   "id": "11bc9bfd-b7b4-4dd8-a24a-5f048a0cb8a7",
   "metadata": {},
   "outputs": [
    {
     "name": "stdout",
     "output_type": "stream",
     "text": [
      "5: respective mean of means 51.32912912912913\n",
      "5: respective std of means 12.797463710429582\n",
      "\n",
      "50: respective mean of means 51.9452052052052\n",
      "50: respective std of means 4.0744274065964845\n",
      "\n",
      "100: respective mean of means 51.996996996997\n",
      "100: respective std of means 2.793570838375145\n",
      "\n"
     ]
    }
   ],
   "source": [
    "for key in means.keys():\n",
    "    print(f'{key}: respective mean of means {np.mean(means[key][1:1000])}')\n",
    "    print(f'{key}: respective std of means {np.std(means[key][1:1000])}\\n')"
   ]
  },
  {
   "cell_type": "markdown",
   "id": "ef284128-1a4d-4139-92af-5a4e51fe7942",
   "metadata": {},
   "source": [
    "## Sort means"
   ]
  },
  {
   "cell_type": "code",
   "execution_count": 15,
   "id": "b1aa2465-0bd4-449f-95fa-24213eda6494",
   "metadata": {},
   "outputs": [],
   "source": [
    "means_sorted = {}\n",
    "\n",
    "for key in means.keys():\n",
    "    means_sorted[key] = sorted(means[key])"
   ]
  },
  {
   "cell_type": "code",
   "execution_count": 16,
   "id": "3ceda470-a4c9-440f-af25-8dcaefe88cc7",
   "metadata": {},
   "outputs": [
    {
     "data": {
      "text/plain": [
       "[48.49, 48.93, 52.31, 52.91, 50.34, 54.82, 53.4, 57.08, 52.71, 50.55]"
      ]
     },
     "execution_count": 16,
     "metadata": {},
     "output_type": "execute_result"
    }
   ],
   "source": [
    "means[key][:10]"
   ]
  },
  {
   "cell_type": "code",
   "execution_count": 17,
   "id": "efabc480-2033-41e7-b6ad-a423dabc5956",
   "metadata": {},
   "outputs": [
    {
     "data": {
      "text/plain": [
       "[41.21, 41.89, 42.03, 42.05, 42.08, 42.25, 42.26, 42.49, 42.49, 42.6]"
      ]
     },
     "execution_count": 17,
     "metadata": {},
     "output_type": "execute_result"
    }
   ],
   "source": [
    "means_sorted[key][:10]"
   ]
  },
  {
   "cell_type": "markdown",
   "id": "8a5337ac-c00e-4923-9f3d-e515174aec9b",
   "metadata": {},
   "source": [
    "## Confidence interval"
   ]
  },
  {
   "cell_type": "markdown",
   "id": "7656babf-7ee7-4194-921b-17cfd8571535",
   "metadata": {},
   "source": [
    "There are number of ways to select range where 95% of observations are located. However, let's find it so that the interval is as small as possible. I know that for normal distribution it has to be symmetrical from the mean. \n",
    "\n",
    "In summary, the confidence interval has to obey rules:\n",
    "1) it has to cover % of observations\n",
    "2) it has to be as tight as possible"
   ]
  },
  {
   "cell_type": "code",
   "execution_count": 18,
   "id": "0219303e-e03c-4c17-aff1-060dcef4034a",
   "metadata": {},
   "outputs": [
    {
     "name": "stdout",
     "output_type": "stream",
     "text": [
      "5 samples: confidence interval [25.2, 75.6]\n",
      "50 samples: confidence interval [44.06, 59.98]\n",
      "100 samples: confidence interval [46.13, 57.43]\n"
     ]
    }
   ],
   "source": [
    "p = 0.05\n",
    "obser_in_range = int((1-p) * len(means_sorted[100]))\n",
    "\n",
    "for key in means_sorted.keys():\n",
    "    delta = []\n",
    "    for i in range( int(len(means_sorted[key])*p)-1 ):\n",
    "\n",
    "        lower_bound = means_sorted[key][i]\n",
    "        upper_bound = means_sorted[key][i+obser_in_range]\n",
    "\n",
    "        delta.append(upper_bound - lower_bound)\n",
    "\n",
    "    k = np.argmin(delta)\n",
    "    lower_bound = means_sorted[key][k]\n",
    "    upper_bound = means_sorted[key][k+obser_in_range]\n",
    "    print(f'{key} samples: confidence interval {[lower_bound, upper_bound]}')"
   ]
  },
  {
   "cell_type": "markdown",
   "id": "20066d5b-9f7a-4e63-8a2e-58e6c264b787",
   "metadata": {},
   "source": [
    "# Conclusion"
   ]
  },
  {
   "cell_type": "markdown",
   "id": "6242eac4-f3af-44fd-b5ca-c2a6889ecf46",
   "metadata": {},
   "source": [
    "It is a typical misconception that the confidence interval represent probability of some value lying within that range. My initial distribution was uniform. By taking samples with resampling, I proved the central miti theorem computationally for this instance. Confidence interval is usefull in null hypothesis. If I were to make the same computations on exponential distribution, I would have a different confidence interval.\n",
    "\n",
    "Also, if number of samples is low, as it was the case with 5 samples, the resulting distribution will look different."
   ]
  }
 ],
 "metadata": {
  "kernelspec": {
   "display_name": "Python 3 (ipykernel)",
   "language": "python",
   "name": "python3"
  },
  "language_info": {
   "codemirror_mode": {
    "name": "ipython",
    "version": 3
   },
   "file_extension": ".py",
   "mimetype": "text/x-python",
   "name": "python",
   "nbconvert_exporter": "python",
   "pygments_lexer": "ipython3",
   "version": "3.9.12"
  }
 },
 "nbformat": 4,
 "nbformat_minor": 5
}
