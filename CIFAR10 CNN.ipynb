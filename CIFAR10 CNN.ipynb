{
 "cells": [
  {
   "cell_type": "markdown",
   "id": "e09c47fa-84b5-406c-8ce1-04da4298e190",
   "metadata": {},
   "source": [
    "# Readme\n",
    "This is an educational project that uses CIFAR10 dataset from tensorflow. The datasets represents pictures of 10 types of obejects (https://www.cs.toronto.edu/~kriz/cifar.html). Convolutional neural nmetwork was utlizied to build a classification model."
   ]
  },
  {
   "cell_type": "markdown",
   "id": "f08aa49d-a27a-4af8-bbb2-5cb157ab52d6",
   "metadata": {},
   "source": [
    "# Prepare data"
   ]
  },
  {
   "cell_type": "markdown",
   "id": "06af5b80-32f4-40cd-bcc5-05966c88ed77",
   "metadata": {},
   "source": [
    "## Import modules"
   ]
  },
  {
   "cell_type": "code",
   "execution_count": 3,
   "id": "16be8276-180b-47c6-9d58-68f8b54ea52c",
   "metadata": {},
   "outputs": [],
   "source": [
    "import tensorflow as tf\n",
    "from tensorflow.keras import datasets, layers, models\n",
    "import matplotlib.pyplot as plt\n",
    "import numpy as np"
   ]
  },
  {
   "cell_type": "code",
   "execution_count": 4,
   "id": "60498afd-992a-4cca-9ab5-ef8a1b3a0702",
   "metadata": {},
   "outputs": [],
   "source": [
    "(X_train, y_train), (X_test, y_test) = datasets.cifar10.load_data()"
   ]
  },
  {
   "cell_type": "code",
   "execution_count": 5,
   "id": "868a39dc-c8f3-4e28-b7dd-c2b4f11f568b",
   "metadata": {},
   "outputs": [
    {
     "name": "stdout",
     "output_type": "stream",
     "text": [
      "(50000, 32, 32, 3)\n",
      "(10000, 32, 32, 3)\n"
     ]
    }
   ],
   "source": [
    "print(X_train.shape)\n",
    "print(X_test.shape)\n",
    "print(y_train.shape)\n",
    "print(y_test.shape)"
   ]
  },
  {
   "cell_type": "markdown",
   "id": "40a982e7-0af1-4df9-b8fb-2be4dff1cdb1",
   "metadata": {},
   "source": [
    "## Explore data"
   ]
  },
  {
   "cell_type": "code",
   "execution_count": 24,
   "id": "0a76d2e8-0d7a-4313-bca8-9bcf47475efa",
   "metadata": {},
   "outputs": [
    {
     "data": {
      "text/plain": [
       "10"
      ]
     },
     "execution_count": 24,
     "metadata": {},
     "output_type": "execute_result"
    }
   ],
   "source": [
    "# create an array with name of classes\n",
    "classes = ['airplane', 'automobile', 'bird', 'cat',\n",
    "           'deer', 'dog', 'frog', 'horse', 'ship', 'truck']\n",
    "len(classes)"
   ]
  },
  {
   "cell_type": "code",
   "execution_count": 25,
   "id": "54fc1798-716f-483c-aff1-809dfba0ea66",
   "metadata": {},
   "outputs": [],
   "source": [
    "y_train = y_train.reshape(-1,)"
   ]
  },
  {
   "cell_type": "code",
   "execution_count": 26,
   "id": "ed91a859-b00b-4768-bef2-b966146c5458",
   "metadata": {},
   "outputs": [
    {
     "data": {
      "text/plain": [
       "array([6, 9, 9, ..., 9, 1, 1], dtype=uint8)"
      ]
     },
     "execution_count": 26,
     "metadata": {},
     "output_type": "execute_result"
    }
   ],
   "source": [
    "y_train"
   ]
  },
  {
   "cell_type": "code",
   "execution_count": 31,
   "id": "836796d0-0d06-4dd0-b15e-01f27289f8e2",
   "metadata": {},
   "outputs": [
    {
     "data": {
      "text/plain": [
       "Text(0.5, 1.0, 'frog')"
      ]
     },
     "execution_count": 31,
     "metadata": {},
     "output_type": "execute_result"
    },
    {
     "data": {
      "image/png": "[encoded data removed]",
      "text/plain": [
       "<Figure size 432x288 with 1 Axes>"
      ]
     },
     "metadata": {
      "needs_background": "light"
     },
     "output_type": "display_data"
    }
   ],
   "source": [
    "# visualize the first image\n",
    "plt.imshow(X_train[0])\n",
    "plt.title( classes[int(y_train[0])] )"
   ]
  },
  {
   "cell_type": "code",
   "execution_count": 32,
   "id": "7cae01bd-cc54-43a6-89e0-7eec8fe5fb6e",
   "metadata": {},
   "outputs": [],
   "source": [
    "# normalize X_train, X_test\n",
    "X_train = X_train / 255\n",
    "X_test = X_test / 255"
   ]
  },
  {
   "cell_type": "markdown",
   "id": "afdfe03b-4a1c-43cd-a0a6-6cdce544e525",
   "metadata": {},
   "source": [
    "# Create ANN\n",
    "Performance is suboptimal for this ANN because accuracy is around 48%. This code is for illustraion purposes."
   ]
  },
  {
   "cell_type": "code",
   "execution_count": 38,
   "id": "c4319306-5307-4501-acd0-9060daca783e",
   "metadata": {},
   "outputs": [
    {
     "name": "stdout",
     "output_type": "stream",
     "text": [
      "Epoch 1/5\n",
      "1563/1563 [==============================] - 42s 27ms/step - loss: 1.8129 - accuracy: 0.3526\n",
      "Epoch 2/5\n",
      "1563/1563 [==============================] - 42s 27ms/step - loss: 1.6216 - accuracy: 0.4288\n",
      "Epoch 3/5\n",
      "1563/1563 [==============================] - 43s 27ms/step - loss: 1.5381 - accuracy: 0.4598\n",
      "Epoch 4/5\n",
      "1563/1563 [==============================] - 43s 27ms/step - loss: 1.4769 - accuracy: 0.4796\n",
      "Epoch 5/5\n",
      "1563/1563 [==============================] - 42s 27ms/step - loss: 1.4295 - accuracy: 0.4975\n"
     ]
    },
    {
     "data": {
      "text/plain": [
       "<keras.callbacks.History at 0x16052c9f6a0>"
      ]
     },
     "execution_count": 38,
     "metadata": {},
     "output_type": "execute_result"
    }
   ],
   "source": [
    "ann = models.Sequential([\n",
    "    layers.Flatten(input_shape=(32,32,3)),\n",
    "    layers.Dense(3000, activation='relu'),\n",
    "    layers.Dense(1000, activation='relu'),\n",
    "    layers.Dense(10, activation='sigmoid')\n",
    "])\n",
    "\n",
    "ann.compile(optimizer='SGD',\n",
    "            loss='sparse_categorical_crossentropy',\n",
    "            metrics=['accuracy'])\n",
    "\n",
    "ann.fit(X_train, y_train, epochs=5)"
   ]
  },
  {
   "cell_type": "code",
   "execution_count": 39,
   "id": "192da086-528f-4838-aeb5-79b1e2bc2441",
   "metadata": {},
   "outputs": [
    {
     "name": "stdout",
     "output_type": "stream",
     "text": [
      "313/313 [==============================] - 2s 7ms/step - loss: 1.4745 - accuracy: 0.4728\n"
     ]
    },
    {
     "data": {
      "text/plain": [
       "[1.474548101425171, 0.47279998660087585]"
      ]
     },
     "execution_count": 39,
     "metadata": {},
     "output_type": "execute_result"
    }
   ],
   "source": [
    "ann.evaluate(X_test, y_test)"
   ]
  },
  {
   "cell_type": "markdown",
   "id": "16542d29-c90d-495e-bc94-37f891705cd0",
   "metadata": {},
   "source": [
    "# Create CNN\n",
    "CNN performs significantly better and faster that the previous ANN. Accuracy is around 70% on the test set."
   ]
  },
  {
   "cell_type": "code",
   "execution_count": 42,
   "id": "457c0dfa-19d8-4cc3-9d00-3b3c63ef2891",
   "metadata": {},
   "outputs": [
    {
     "name": "stdout",
     "output_type": "stream",
     "text": [
      "Epoch 1/10\n",
      "1563/1563 [==============================] - 16s 10ms/step - loss: 1.4465 - accuracy: 0.4795\n",
      "Epoch 2/10\n",
      "1563/1563 [==============================] - 15s 10ms/step - loss: 1.1094 - accuracy: 0.6106\n",
      "Epoch 3/10\n",
      "1563/1563 [==============================] - 15s 10ms/step - loss: 0.9828 - accuracy: 0.6570\n",
      "Epoch 4/10\n",
      "1563/1563 [==============================] - 15s 10ms/step - loss: 0.8986 - accuracy: 0.6860\n",
      "Epoch 5/10\n",
      "1563/1563 [==============================] - 15s 10ms/step - loss: 0.8390 - accuracy: 0.7071\n",
      "Epoch 6/10\n",
      "1563/1563 [==============================] - 15s 10ms/step - loss: 0.7792 - accuracy: 0.7291\n",
      "Epoch 7/10\n",
      "1563/1563 [==============================] - 15s 10ms/step - loss: 0.7286 - accuracy: 0.7468\n",
      "Epoch 8/10\n",
      "1563/1563 [==============================] - 15s 10ms/step - loss: 0.6784 - accuracy: 0.7644\n",
      "Epoch 9/10\n",
      "1563/1563 [==============================] - 15s 10ms/step - loss: 0.6316 - accuracy: 0.7799\n",
      "Epoch 10/10\n",
      "1563/1563 [==============================] - 15s 10ms/step - loss: 0.5941 - accuracy: 0.7933\n"
     ]
    },
    {
     "data": {
      "text/plain": [
       "<keras.callbacks.History at 0x160b9b2d2b0>"
      ]
     },
     "execution_count": 42,
     "metadata": {},
     "output_type": "execute_result"
    }
   ],
   "source": [
    "cnn = models.Sequential([\n",
    "    \n",
    "    #cnn\n",
    "    layers.Conv2D( filters=32, activation='relu', kernel_size=(3,3), input_shape=(32,32,3) ),\n",
    "    layers.MaxPooling2D((2,2)),\n",
    "    \n",
    "    #cnn\n",
    "    layers.Conv2D( filters=64, activation='relu', kernel_size=(3,3)),\n",
    "    layers.MaxPooling2D((2,2)),\n",
    "    \n",
    "    #dense\n",
    "    layers.Flatten(), #no need to specify\n",
    "    layers.Dense(64, activation='relu'),\n",
    "    layers.Dense(10, activation='softmax')\n",
    "])\n",
    "\n",
    "cnn.compile(optimizer='adam',\n",
    "            loss='sparse_categorical_crossentropy',\n",
    "            metrics=['accuracy'])\n",
    "\n",
    "cnn.fit(X_train, y_train, epochs=10)"
   ]
  },
  {
   "cell_type": "code",
   "execution_count": 43,
   "id": "00ece22d-78d3-4e96-8866-b3af7079b996",
   "metadata": {},
   "outputs": [
    {
     "name": "stdout",
     "output_type": "stream",
     "text": [
      "313/313 [==============================] - 1s 3ms/step - loss: 0.9145 - accuracy: 0.6978\n"
     ]
    },
    {
     "data": {
      "text/plain": [
       "[0.9145439267158508, 0.6977999806404114]"
      ]
     },
     "execution_count": 43,
     "metadata": {},
     "output_type": "execute_result"
    }
   ],
   "source": [
    "cnn.evaluate(X_test, y_test)"
   ]
  },
  {
   "cell_type": "markdown",
   "id": "0c5d95c4-d7f7-4b64-8c11-6e4bb81ce604",
   "metadata": {},
   "source": [
    "# Visualize results"
   ]
  },
  {
   "cell_type": "markdown",
   "id": "20b37398-2da7-4ef4-b9e0-f84e93ff60e7",
   "metadata": {},
   "source": [
    "## Create y_pred "
   ]
  },
  {
   "cell_type": "code",
   "execution_count": 110,
   "id": "7ca36189-4f9d-414f-9636-936477f9838a",
   "metadata": {},
   "outputs": [
    {
     "name": "stdout",
     "output_type": "stream",
     "text": [
      "313/313 [==============================] - 1s 3ms/step\n"
     ]
    }
   ],
   "source": [
    "y_pred = cnn.predict(X_test)"
   ]
  },
  {
   "cell_type": "code",
   "execution_count": 111,
   "id": "0a12340e-9c43-440f-bf3e-b4f6ae071a78",
   "metadata": {},
   "outputs": [
    {
     "data": {
      "text/plain": [
       "array([2.69760476e-05, 1.74882734e-04, 7.66716606e-04, 9.75036800e-01,\n",
       "       9.24450142e-05, 1.47048095e-02, 4.21046373e-03, 3.14449717e-05,\n",
       "       4.93430952e-03, 2.10720937e-05], dtype=float32)"
      ]
     },
     "execution_count": 111,
     "metadata": {},
     "output_type": "execute_result"
    }
   ],
   "source": [
    "# explore y_pred output\n",
    "y_pred[0]"
   ]
  },
  {
   "cell_type": "code",
   "execution_count": 112,
   "id": "110651b0-7828-4610-b996-b2deeb98fc59",
   "metadata": {},
   "outputs": [
    {
     "data": {
      "text/plain": [
       "3"
      ]
     },
     "execution_count": 112,
     "metadata": {},
     "output_type": "execute_result"
    }
   ],
   "source": [
    "# find the max and its place in array\n",
    "np.argmax(y_pred[0])"
   ]
  },
  {
   "cell_type": "code",
   "execution_count": 113,
   "id": "a1a82785-8719-48e5-be83-8f1f1b30f7ce",
   "metadata": {},
   "outputs": [
    {
     "data": {
      "text/plain": [
       "10000"
      ]
     },
     "execution_count": 113,
     "metadata": {},
     "output_type": "execute_result"
    }
   ],
   "source": [
    "len(y_pred)"
   ]
  },
  {
   "cell_type": "code",
   "execution_count": 114,
   "id": "770ddb98-175b-4908-84b5-331e3086cb16",
   "metadata": {},
   "outputs": [],
   "source": [
    "y_pred_ = [0]*len(y_pred)\n",
    "\n",
    "for i in range(len(y_pred)):\n",
    "    y_pred_[i] = np.argmax(y_pred[i])"
   ]
  },
  {
   "cell_type": "code",
   "execution_count": 115,
   "id": "8034282f-a009-4770-92a1-e37152e6e69b",
   "metadata": {},
   "outputs": [],
   "source": [
    "y_pred = y_pred_"
   ]
  },
  {
   "cell_type": "markdown",
   "id": "911bde54-bd86-4bc2-81f1-73bb79124987",
   "metadata": {},
   "source": [
    "## Classification report"
   ]
  },
  {
   "cell_type": "code",
   "execution_count": 116,
   "id": "2386d17c-3b9b-4967-bcb3-2b41402f186c",
   "metadata": {},
   "outputs": [
    {
     "name": "stdout",
     "output_type": "stream",
     "text": [
      "              precision    recall  f1-score   support\n",
      "\n",
      "    airplane       0.81      0.67      0.74      1000\n",
      "  automobile       0.74      0.88      0.80      1000\n",
      "        bird       0.63      0.55      0.59      1000\n",
      "         cat       0.57      0.44      0.49      1000\n",
      "        deer       0.68      0.61      0.64      1000\n",
      "         dog       0.55      0.70      0.62      1000\n",
      "        frog       0.75      0.79      0.77      1000\n",
      "       horse       0.69      0.79      0.73      1000\n",
      "        ship       0.80      0.77      0.78      1000\n",
      "       truck       0.79      0.77      0.78      1000\n",
      "\n",
      "    accuracy                           0.70     10000\n",
      "   macro avg       0.70      0.70      0.69     10000\n",
      "weighted avg       0.70      0.70      0.69     10000\n",
      "\n"
     ]
    }
   ],
   "source": [
    "from sklearn.metrics import classification_report\n",
    "# classification report\n",
    "print(classification_report(y_test, y_pred, target_names=classes))"
   ]
  },
  {
   "cell_type": "markdown",
   "id": "e0584295-95bc-4ea1-b5fc-d55ed18d54cc",
   "metadata": {},
   "source": [
    "## Confusion Matrix"
   ]
  },
  {
   "cell_type": "code",
   "execution_count": 117,
   "id": "b1bce738-44bc-488a-ba86-0b6c9f65d424",
   "metadata": {},
   "outputs": [
    {
     "data": {
      "text/plain": [
       "<AxesSubplot:>"
      ]
     },
     "execution_count": 117,
     "metadata": {},
     "output_type": "execute_result"
    },
    {
     "data": {
      "image/png": "[encoded data removed]",
      "text/plain": [
       "<Figure size 720x720 with 2 Axes>"
      ]
     },
     "metadata": {
      "needs_background": "light"
     },
     "output_type": "display_data"
    }
   ],
   "source": [
    "from sklearn.metrics import confusion_matrix\n",
    "import seaborn as sn\n",
    "# confusion matrix\n",
    "cm = confusion_matrix(y_test, y_pred)\n",
    "plt.figure(figsize=(10,10))\n",
    "sn.heatmap(cm, annot=True, fmt='d')"
   ]
  },
  {
   "cell_type": "code",
   "execution_count": null,
   "id": "6f8c2933-1791-4f69-961a-42431191edf8",
   "metadata": {},
   "outputs": [],
   "source": []
  }
 ],
 "metadata": {
  "kernelspec": {
   "display_name": "Python 3 (ipykernel)",
   "language": "python",
   "name": "python3"
  },
  "language_info": {
   "codemirror_mode": {
    "name": "ipython",
    "version": 3
   },
   "file_extension": ".py",
   "mimetype": "text/x-python",
   "name": "python",
   "nbconvert_exporter": "python",
   "pygments_lexer": "ipython3",
   "version": "3.9.12"
  }
 },
 "nbformat": 4,
 "nbformat_minor": 5
}
