{
 "cells": [
  {
   "cell_type": "markdown",
   "id": "8f8919ca-7219-487d-a156-9a3da710f089",
   "metadata": {},
   "source": [
    "Question:\n",
    "https://www.khanacademy.org/math/statistics-probability/significance-tests-one-sample/more-significance-testing-videos/v/hypothesis-testing-and-p-values \n",
    "\n",
    "Mean response time for rats not injected with the drug is 1.2 seconds.\n",
    "The mean of the 100 injected rats' response times is 1.05 seconds with standart deviation of 0.5 seconds.\n",
    "Does the drug have the effect on rats?"
   ]
  },
  {
   "cell_type": "markdown",
   "id": "039f0577-e210-44cf-8fbe-ded66798fb01",
   "metadata": {},
   "source": [
    "# Solution"
   ]
  },
  {
   "cell_type": "markdown",
   "id": "89948a1b-35f2-4fae-9108-8257136a1dfd",
   "metadata": {},
   "source": [
    "The main idea behind the solution is to refer to the central limit theorem. Since we have mean and standart deviation for rats undergone treatment with the drug, I can compute probability of getting 1.2 seconds on that distribution. If probability of getting 1.2 seconds is very low, for example less than 5%, the answer will sound like within proability of 95% we will not have that, thus rejecteing the null hypothesis."
   ]
  },
  {
   "cell_type": "code",
   "execution_count": 20,
   "id": "c636cded-2288-4304-8485-d80a822b88e9",
   "metadata": {},
   "outputs": [],
   "source": [
    "from scipy.stats import norm\n",
    "import numpy as np"
   ]
  },
  {
   "cell_type": "code",
   "execution_count": 21,
   "id": "e86e70e5-e357-4969-9755-27c42c0ca86e",
   "metadata": {},
   "outputs": [
    {
     "data": {
      "text/plain": [
       "0.5"
      ]
     },
     "execution_count": 21,
     "metadata": {},
     "output_type": "execute_result"
    }
   ],
   "source": [
    "# quickly check syntax\n",
    "norm.cdf(1.05, loc=1.05, scale=0.5/np.sqrt(100))"
   ]
  },
  {
   "cell_type": "code",
   "execution_count": 22,
   "id": "a5d2c9b3-8232-454a-ae87-66250c5c1161",
   "metadata": {},
   "outputs": [
    {
     "data": {
      "text/plain": [
       "99.86501019683699"
      ]
     },
     "execution_count": 22,
     "metadata": {},
     "output_type": "execute_result"
    }
   ],
   "source": [
    "#\n",
    "norm.cdf(1.2, loc=1.05, scale=0.5/np.sqrt(100))*100"
   ]
  },
  {
   "cell_type": "markdown",
   "id": "7655d584-2bd6-4749-8d8e-e77987483de9",
   "metadata": {},
   "source": [
    "this number is less than 95%, so there is no statistical difference between the two population."
   ]
  },
  {
   "cell_type": "markdown",
   "id": "5489f5e8-4510-4016-a735-447413f5f1f1",
   "metadata": {},
   "source": [
    "otherwise we can use Z score"
   ]
  },
  {
   "cell_type": "code",
   "execution_count": 16,
   "id": "b452b1e3-dd8e-4cb6-b8a7-032d28993338",
   "metadata": {},
   "outputs": [
    {
     "data": {
      "text/plain": [
       "2.9999999999999982"
      ]
     },
     "execution_count": 16,
     "metadata": {},
     "output_type": "execute_result"
    }
   ],
   "source": [
    "Z = (1.2 - 1.05) / (0.5/10)\n",
    "Z"
   ]
  },
  {
   "cell_type": "markdown",
   "id": "76b7a88d-f176-4bd2-b5ce-003c05883bcb",
   "metadata": {},
   "source": [
    "Z is almost 3 which means that it is 3. "
   ]
  },
  {
   "cell_type": "markdown",
   "id": "0f98478b-0ea1-4313-b1a5-95baeccde393",
   "metadata": {},
   "source": [
    "p value is very related to null hypothesis"
   ]
  },
  {
   "cell_type": "code",
   "execution_count": null,
   "id": "7dbbda45-bb1c-4dd4-ac70-e3173b9e6112",
   "metadata": {},
   "outputs": [],
   "source": []
  }
 ],
 "metadata": {
  "kernelspec": {
   "display_name": "Python 3 (ipykernel)",
   "language": "python",
   "name": "python3"
  },
  "language_info": {
   "codemirror_mode": {
    "name": "ipython",
    "version": 3
   },
   "file_extension": ".py",
   "mimetype": "text/x-python",
   "name": "python",
   "nbconvert_exporter": "python",
   "pygments_lexer": "ipython3",
   "version": "3.9.13"
  }
 },
 "nbformat": 4,
 "nbformat_minor": 5
}
